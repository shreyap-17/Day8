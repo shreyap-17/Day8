{
 "cells": [
  {
   "cell_type": "code",
   "execution_count": 1,
   "metadata": {},
   "outputs": [],
   "source": [
    "from sklearn.feature_extraction.text import TfidfVectorizer\n",
    "sentences=['what is your name','where do you live','do you live in surat','what is your latname']"
   ]
  },
  {
   "cell_type": "code",
   "execution_count": 2,
   "metadata": {},
   "outputs": [
    {
     "name": "stdout",
     "output_type": "stream",
     "text": [
      "  (0, 10)\t0.4658085493691629\n",
      "  (0, 7)\t0.4658085493691629\n",
      "  (0, 5)\t0.5908190806023349\n",
      "  (0, 2)\t0.4658085493691629\n",
      "  (1, 9)\t0.4658085493691629\n",
      "  (1, 8)\t0.5908190806023349\n",
      "  (1, 4)\t0.4658085493691629\n",
      "  (1, 0)\t0.4658085493691629\n",
      "  (2, 9)\t0.401042746469996\n",
      "  (2, 6)\t0.5086718718935652\n",
      "  (2, 4)\t0.401042746469996\n",
      "  (2, 1)\t0.5086718718935652\n",
      "  (2, 0)\t0.401042746469996\n",
      "  (3, 10)\t0.4658085493691629\n",
      "  (3, 7)\t0.4658085493691629\n",
      "  (3, 3)\t0.5908190806023349\n",
      "  (3, 2)\t0.4658085493691629\n",
      "{'what': 7, 'is': 2, 'your': 10, 'name': 5, 'where': 8, 'do': 0, 'you': 9, 'live': 4, 'in': 1, 'surat': 6, 'latname': 3}\n"
     ]
    },
    {
     "data": {
      "text/plain": [
       "(4, 11)"
      ]
     },
     "execution_count": 2,
     "metadata": {},
     "output_type": "execute_result"
    }
   ],
   "source": [
    "vectors=TfidfVectorizer()\n",
    "vectors.fit(sentences)\n",
    "transform=vectors.transform(sentences)\n",
    "print(transform)\n",
    "print(vectors.vocabulary_)\n",
    "transform.shape"
   ]
  },
  {
   "cell_type": "code",
   "execution_count": null,
   "metadata": {},
   "outputs": [],
   "source": []
  }
 ],
 "metadata": {
  "kernelspec": {
   "display_name": "Python 3",
   "language": "python",
   "name": "python3"
  },
  "language_info": {
   "codemirror_mode": {
    "name": "ipython",
    "version": 3
   },
   "file_extension": ".py",
   "mimetype": "text/x-python",
   "name": "python",
   "nbconvert_exporter": "python",
   "pygments_lexer": "ipython3",
   "version": "3.8.6rc1"
  }
 },
 "nbformat": 4,
 "nbformat_minor": 4
}
